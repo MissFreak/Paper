{
 "cells": [
  {
   "cell_type": "code",
   "execution_count": 174,
   "metadata": {},
   "outputs": [
    {
     "data": {
      "text/plain": [
       "1072"
      ]
     },
     "execution_count": 174,
     "metadata": {},
     "output_type": "execute_result"
    }
   ],
   "source": [
    "# 只留下二、三、四字词\n",
    "import pandas as pd\n",
    "import numpy as np\n",
    "df = pd.read_csv('chineselexicaldatabase2.1.csv')\n",
    "df = df[df['Length'] != 1]\n",
    "df = df[[\"Word\", \"Pinyin\", 'C1Pinyin', 'C2Pinyin', 'C3Pinyin', 'Length',  'Frequency']]\n",
    "df.sort_values(by=['Pinyin', 'Length','Frequency'], ascending=[True, True, False], inplace=True)\n",
    "df.index = range(1, len(df) + 1)\n",
    "\n",
    "# 得到df1是重复的-first\n",
    "mask = df.duplicated(['C1Pinyin'])\n",
    "df1 = df[mask]\n",
    "\n",
    "# 得到df2是重复的\n",
    "mask2 = df.duplicated(['C1Pinyin'],keep = False)\n",
    "df2 = df[mask2]\n",
    "\n",
    "#相减，得到first\n",
    "target = pd.concat([df1, df2]).drop_duplicates(keep = False)\n",
    "\n",
    "# 计算target的个数\n",
    "target.shape[0]"
   ]
  },
  {
   "cell_type": "code",
   "execution_count": 176,
   "metadata": {},
   "outputs": [
    {
     "data": {
      "text/plain": [
       "43598"
      ]
     },
     "execution_count": 176,
     "metadata": {},
     "output_type": "execute_result"
    }
   ],
   "source": [
    "# 得到competitors\n",
    "competitor = df2.loc[df2['C1Pinyin'].isin(target['C1Pinyin'])]\n",
    "# competitor.to_csv ('real-competitor.csv', header=True)\n",
    "\n",
    "# 计算competitor的个数\n",
    "competitor.shape[0] - target.shape[0]"
   ]
  },
  {
   "cell_type": "code",
   "execution_count": 177,
   "metadata": {},
   "outputs": [
    {
     "data": {
      "text/plain": [
       "44670"
      ]
     },
     "execution_count": 177,
     "metadata": {},
     "output_type": "execute_result"
    }
   ],
   "source": [
    "competitor.shape[0]"
   ]
  },
  {
   "cell_type": "code",
   "execution_count": 178,
   "metadata": {},
   "outputs": [
    {
     "data": {
      "text/plain": [
       "2669"
      ]
     },
     "execution_count": 178,
     "metadata": {},
     "output_type": "execute_result"
    }
   ],
   "source": [
    "df = pd.read_csv('chineselexicaldatabase2.1.csv')\n",
    "df = df[df['Length'] > 2]\n",
    "df = df[[\"Word\", \"Pinyin\", 'C1Pinyin', 'C2Pinyin', 'C3Pinyin', 'Length',  'Frequency']]\n",
    "df.sort_values(by=['Pinyin', 'Length','Frequency'], ascending=[True, True, False], inplace=True)\n",
    "df.index = range(1, len(df) + 1)\n",
    "\n",
    "df[\"2Pinyin\"] = df[\"C1Pinyin\"] + df[\"C2Pinyin\"]\n",
    "\n",
    "# 得到df1是重复的-first\n",
    "mask = df.duplicated(['2Pinyin'])\n",
    "df1 = df[mask]\n",
    "\n",
    "# 得到df2是重复的\n",
    "mask2 = df.duplicated(['2Pinyin'],keep = False)\n",
    "df2 = df[mask2]\n",
    "\n",
    "#相减，得到first\n",
    "target = pd.concat([df1, df2]).drop_duplicates(keep = False)\n",
    "\n",
    "# 计算target的个数\n",
    "target.shape[0]\n",
    "# 将target保存起来\n",
    "target.to_csv ('real-target2.csv', header=True)\n",
    "\n",
    "# 得到competitors\n",
    "competitor = df2.loc[df2['2Pinyin'].isin(target['2Pinyin'])]\n",
    "competitor.to_csv ('real-competitor2.csv', header=True)\n",
    "\n",
    "# 计算competitor的个数\n",
    "competitor.shape[0] - target.shape[0]"
   ]
  },
  {
   "cell_type": "code",
   "execution_count": 179,
   "metadata": {},
   "outputs": [
    {
     "data": {
      "text/plain": [
       "1490"
      ]
     },
     "execution_count": 179,
     "metadata": {},
     "output_type": "execute_result"
    }
   ],
   "source": [
    "target.shape[0]"
   ]
  },
  {
   "cell_type": "code",
   "execution_count": 181,
   "metadata": {},
   "outputs": [
    {
     "data": {
      "text/plain": [
       "77"
      ]
     },
     "execution_count": 181,
     "metadata": {},
     "output_type": "execute_result"
    }
   ],
   "source": [
    "df = pd.read_csv('chineselexicaldatabase2.1.csv')\n",
    "df = df[df['Length'] > 3]\n",
    "df = df[[\"Word\", \"Pinyin\", 'C1Pinyin', 'C2Pinyin', 'C3Pinyin', 'Length',  'Frequency']]\n",
    "df.sort_values(by=['Pinyin', 'Length','Frequency'], ascending=[True, True, False], inplace=True)\n",
    "df.index = range(1, len(df) + 1)\n",
    "\n",
    "df[\"3Pinyin\"] = df[\"C1Pinyin\"] + df[\"C2Pinyin\"] + df[\"C3Pinyin\"]\n",
    "\n",
    "# 得到df1是重复的-first\n",
    "mask = df.duplicated(['3Pinyin'])\n",
    "df1 = df[mask]\n",
    "\n",
    "# 得到df2是重复的\n",
    "mask2 = df.duplicated(['3Pinyin'],keep = False)\n",
    "df2 = df[mask2]\n",
    "\n",
    "#相减，得到first\n",
    "target = pd.concat([df1, df2]).drop_duplicates(keep = False)\n",
    "\n",
    "# 计算target的个数\n",
    "target.shape[0]\n",
    "# 将target保存起来\n",
    "target.to_csv ('real-target3.csv', header=True)\n",
    "\n",
    "# 得到competitors\n",
    "competitor = df2.loc[df2['3Pinyin'].isin(target['3Pinyin'])]\n",
    "competitor.to_csv ('real-competitor3.csv', header=True)\n",
    "\n",
    "# 计算competitor的个数\n",
    "competitor.shape[0] - target.shape[0]\n"
   ]
  },
  {
   "cell_type": "code",
   "execution_count": 182,
   "metadata": {},
   "outputs": [
    {
     "data": {
      "text/plain": [
       "68"
      ]
     },
     "execution_count": 182,
     "metadata": {},
     "output_type": "execute_result"
    }
   ],
   "source": [
    "target.shape[0]"
   ]
  },
  {
   "cell_type": "code",
   "execution_count": null,
   "metadata": {},
   "outputs": [],
   "source": []
  }
 ],
 "metadata": {
  "kernelspec": {
   "display_name": "Python 3",
   "language": "python",
   "name": "python3"
  },
  "language_info": {
   "codemirror_mode": {
    "name": "ipython",
    "version": 3
   },
   "file_extension": ".py",
   "mimetype": "text/x-python",
   "name": "python",
   "nbconvert_exporter": "python",
   "pygments_lexer": "ipython3",
   "version": "3.7.3"
  },
  "toc": {
   "base_numbering": 1,
   "nav_menu": {},
   "number_sections": true,
   "sideBar": true,
   "skip_h1_title": false,
   "title_cell": "Table of Contents",
   "title_sidebar": "Contents",
   "toc_cell": false,
   "toc_position": {},
   "toc_section_display": true,
   "toc_window_display": false
  }
 },
 "nbformat": 4,
 "nbformat_minor": 2
}
