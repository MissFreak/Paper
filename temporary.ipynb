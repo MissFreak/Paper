{
 "cells": [
  {
   "cell_type": "code",
   "execution_count": 28,
   "metadata": {},
   "outputs": [
    {
     "data": {
      "text/plain": [
       "11209"
      ]
     },
     "execution_count": 28,
     "metadata": {},
     "output_type": "execute_result"
    }
   ],
   "source": [
    "import pandas as pd\n",
    "import numpy as np\n",
    "\n",
    "df = pd.read_csv('chineselexicaldatabase2.1.csv')\n",
    "df = df[df['Length'] != 1]\n",
    "df = df[[\"Word\", \"Pinyin\", 'C1Pinyin', 'Length',  'Frequency']]\n",
    "df.sort_values(by=['Pinyin', 'Length','Frequency'], ascending=[True, True, False], inplace=True)\n",
    "df.index = range(1, len(df) + 1)\n",
    "\n",
    "#把第一个音节二声变成三声\n",
    "df['C1Pinyin_1'] = df['C1Pinyin'].replace('4', '1', regex=True) # df加了一个column\n",
    "tempr = df\n",
    "# 取出变化了的第一个字\n",
    "tempr_2 = tempr.loc[tempr['C1Pinyin_1'] != tempr['C1Pinyin']]\n",
    "mask2 = tempr_2.duplicated(['C1Pinyin_1'])\n",
    "df2 = tempr_2[~mask2]\n",
    "# 取出没有发生变化的第一个字\n",
    "tempr_3 = tempr.loc[tempr['C1Pinyin_1'] == tempr['C1Pinyin']]\n",
    "mask3 = tempr_3.duplicated(['C1Pinyin_1'])\n",
    "df3 = tempr_3[~mask3]\n",
    "\n",
    "# 将不重复的两个list合并，查看重复项\n",
    "df4 = pd.concat([df2, df3])\n",
    "df4 = df4[df4.duplicated(['C1Pinyin_1'])]\n",
    "\n",
    "# 将target保存起来\n",
    "target = df3.loc[df3['C1Pinyin_1'].isin(df4['C1Pinyin_1'])]\n",
    "target.to_csv ('41temporary-target.csv', header=True)\n",
    "\n",
    "# 得到competitors\n",
    "competitor = tempr_2.loc[tempr_2['C1Pinyin_1'].isin(df4['C1Pinyin_1'])]\n",
    "competitor.to_csv ('41temporary-competitor.csv', header=True)\n",
    "\n",
    "# 计算target和competitor的个数\n",
    "df4.shape[0]\n",
    "competitor.shape[0]"
   ]
  },
  {
   "cell_type": "code",
   "execution_count": 29,
   "metadata": {},
   "outputs": [
    {
     "data": {
      "text/plain": [
       "246"
      ]
     },
     "execution_count": 29,
     "metadata": {},
     "output_type": "execute_result"
    }
   ],
   "source": [
    "df4.shape[0]"
   ]
  },
  {
   "cell_type": "code",
   "execution_count": 30,
   "metadata": {},
   "outputs": [
    {
     "data": {
      "text/plain": [
       "128"
      ]
     },
     "execution_count": 30,
     "metadata": {},
     "output_type": "execute_result"
    }
   ],
   "source": [
    "df = pd.read_csv('chineselexicaldatabase2.1.csv')\n",
    "df = df[df['Length'] > 2]\n",
    "df = df[[\"Word\", \"Pinyin\", 'C1Pinyin', 'C2Pinyin', 'Length',  'Frequency']]\n",
    "df.sort_values(by=['Pinyin', 'Length','Frequency'], ascending=[True, True, False], inplace=True)\n",
    "df.index = range(1, len(df) + 1)\n",
    "\n",
    "#把第二个音节二声变成三声\n",
    "df['C2Pinyin_1'] = df['C2Pinyin'].replace('4', '1', regex=True)\n",
    "tempr = df\n",
    "tempr[\"2Pinyin\"] = tempr[\"C1Pinyin\"] + tempr[\"C2Pinyin_1\"]\n",
    "\n",
    "# 取出变化了的第二个字\n",
    "tempr_2 = tempr.loc[tempr['C2Pinyin_1'] != tempr['C2Pinyin']]\n",
    "mask2 = tempr_2.duplicated('2Pinyin')\n",
    "df2 = tempr_2[~mask2]\n",
    "# 取出没有发生变化的第二个字\n",
    "tempr_3 = tempr.loc[tempr['C2Pinyin_1'] == tempr['C2Pinyin']]\n",
    "mask3 = tempr_3.duplicated('2Pinyin')\n",
    "df3 = tempr_3[~mask3]\n",
    "\n",
    "# 将不重复的两个list合并，查看重复项\n",
    "df4 = pd.concat([df2, df3])\n",
    "df4 = df4[df4.duplicated('2Pinyin')]\n",
    "\n",
    "target2 = df3.loc[df3['2Pinyin'].isin(df4['2Pinyin'])]\n",
    "target2.to_csv ('41temporary-target-2.csv', header=True)\n",
    "\n",
    "# 得到competitors\n",
    "competitor2 = tempr_2.loc[tempr_2['2Pinyin'].isin(df4['2Pinyin'])]\n",
    "competitor2.to_csv ('41temporary-competitor-2.csv', header=True)\n",
    "\n",
    "# 计算target和competitor的个数\n",
    "df4.shape[0]\n",
    "competitor2.shape[0]"
   ]
  },
  {
   "cell_type": "code",
   "execution_count": 31,
   "metadata": {},
   "outputs": [
    {
     "data": {
      "text/plain": [
       "82"
      ]
     },
     "execution_count": 31,
     "metadata": {},
     "output_type": "execute_result"
    }
   ],
   "source": [
    "df4.shape[0]"
   ]
  },
  {
   "cell_type": "code",
   "execution_count": 34,
   "metadata": {},
   "outputs": [
    {
     "data": {
      "text/plain": [
       "1"
      ]
     },
     "execution_count": 34,
     "metadata": {},
     "output_type": "execute_result"
    }
   ],
   "source": [
    "df = pd.read_csv('chineselexicaldatabase2.1.csv')\n",
    "df = df[df['Length'] > 3]\n",
    "df = df[[\"Word\", \"Pinyin\", 'C1Pinyin', 'C2Pinyin', 'C3Pinyin', 'Length',  'Frequency']]\n",
    "df.sort_values(by=['Pinyin', 'Length','Frequency'], ascending=[True, True, False], inplace=True)\n",
    "df.index = range(1, len(df) + 1)\n",
    "\n",
    "#把第二个音节二声变成三声\n",
    "df['C3Pinyin_1'] = df['C3Pinyin'].replace('4', '1', regex=True)\n",
    "tempr = df\n",
    "tempr[\"3Pinyin\"] = tempr[\"C1Pinyin\"] + tempr[\"C2Pinyin\"] + tempr[\"C3Pinyin_1\"]\n",
    "\n",
    "# 取出变化了的第二个字\n",
    "tempr_2 = tempr.loc[tempr['C3Pinyin_1'] != tempr['C3Pinyin']]\n",
    "mask2 = tempr_2.duplicated('3Pinyin')\n",
    "df2 = tempr_2[~mask2]\n",
    "# 取出没有发生变化的第二个字\n",
    "tempr_3 = tempr.loc[tempr['C3Pinyin_1'] == tempr['C3Pinyin']]\n",
    "mask3 = tempr_3.duplicated('3Pinyin')\n",
    "df3 = tempr_3[~mask3]\n",
    "\n",
    "# 将不重复的两个list合并，查看重复项\n",
    "df4 = pd.concat([df2, df3])\n",
    "df4 = df4[df4.duplicated('3Pinyin')]\n",
    "\n",
    "target3 = df3.loc[df3['3Pinyin'].isin(df4['3Pinyin'])]\n",
    "target3.to_csv ('41temporary-target-3.csv', header=True)\n",
    "\n",
    "# 得到competitors\n",
    "competitor3 = tempr_2.loc[tempr_2['3Pinyin'].isin(df4['3Pinyin'])]\n",
    "competitor3.to_csv ('41temporary-competitor-3.csv', header=True)\n",
    "\n",
    "# 计算target和competitor的个数\n",
    "df4.shape[0]\n",
    "competitor3.shape[0]"
   ]
  },
  {
   "cell_type": "code",
   "execution_count": 35,
   "metadata": {},
   "outputs": [
    {
     "data": {
      "text/plain": [
       "1"
      ]
     },
     "execution_count": 35,
     "metadata": {},
     "output_type": "execute_result"
    }
   ],
   "source": [
    "df4.shape[0]"
   ]
  },
  {
   "cell_type": "code",
   "execution_count": null,
   "metadata": {},
   "outputs": [],
   "source": []
  }
 ],
 "metadata": {
  "kernelspec": {
   "display_name": "Python 3",
   "language": "python",
   "name": "python3"
  },
  "language_info": {
   "codemirror_mode": {
    "name": "ipython",
    "version": 3
   },
   "file_extension": ".py",
   "mimetype": "text/x-python",
   "name": "python",
   "nbconvert_exporter": "python",
   "pygments_lexer": "ipython3",
   "version": "3.7.3"
  },
  "toc": {
   "base_numbering": 1,
   "nav_menu": {},
   "number_sections": true,
   "sideBar": true,
   "skip_h1_title": false,
   "title_cell": "Table of Contents",
   "title_sidebar": "Contents",
   "toc_cell": false,
   "toc_position": {},
   "toc_section_display": true,
   "toc_window_display": false
  }
 },
 "nbformat": 4,
 "nbformat_minor": 2
}
